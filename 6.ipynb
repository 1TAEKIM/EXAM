{
 "cells": [
  {
   "cell_type": "code",
   "execution_count": 15,
   "metadata": {},
   "outputs": [
    {
     "name": "stdout",
     "output_type": "stream",
     "text": [
      "0 days 01:23:20.222222080\n",
      "83.33703333333334\n"
     ]
    }
   ],
   "source": [
    "import numpy as np\n",
    "import pandas as pd\n",
    "\n",
    "df = pd.read_csv('https://raw.githubusercontent.com/YoungjinBD/dataset/main/data_6_1_1.csv')\n",
    "\n",
    "df['출동시간'] = pd.to_datetime(df['출동시간'])\n",
    "df['도착시간'] = pd.to_datetime(df['도착시간'])\n",
    "\n",
    "df1 = df.groupby(['구급대'])[['출동시간', '도착시간']].mean()\n",
    "df1['이동시간'] = df1['도착시간'] - df1['출동시간']\n",
    "\n",
    "print(df1['이동시간'].max())\n",
    "print(60 + 23 + (20.222/60))"
   ]
  },
  {
   "cell_type": "code",
   "execution_count": null,
   "metadata": {},
   "outputs": [
    {
     "data": {
      "text/html": [
       "<div>\n",
       "<style scoped>\n",
       "    .dataframe tbody tr th:only-of-type {\n",
       "        vertical-align: middle;\n",
       "    }\n",
       "\n",
       "    .dataframe tbody tr th {\n",
       "        vertical-align: top;\n",
       "    }\n",
       "\n",
       "    .dataframe thead th {\n",
       "        text-align: right;\n",
       "    }\n",
       "</style>\n",
       "<table border=\"1\" class=\"dataframe\">\n",
       "  <thead>\n",
       "    <tr style=\"text-align: right;\">\n",
       "      <th></th>\n",
       "      <th>대학교명</th>\n",
       "      <th>교수</th>\n",
       "      <th>경영학과</th>\n",
       "      <th>경제학과</th>\n",
       "      <th>컴퓨터공학과</th>\n",
       "      <th>산업공학과</th>\n",
       "      <th>국문학과</th>\n",
       "      <th>영문학과</th>\n",
       "      <th>교수_학생</th>\n",
       "    </tr>\n",
       "  </thead>\n",
       "  <tbody>\n",
       "    <tr>\n",
       "      <th>45</th>\n",
       "      <td>대학교46</td>\n",
       "      <td>22</td>\n",
       "      <td>163</td>\n",
       "      <td>189</td>\n",
       "      <td>192</td>\n",
       "      <td>121</td>\n",
       "      <td>99</td>\n",
       "      <td>183</td>\n",
       "      <td>43.045455</td>\n",
       "    </tr>\n",
       "  </tbody>\n",
       "</table>\n",
       "</div>"
      ],
      "text/plain": [
       "     대학교명  교수  경영학과  경제학과  컴퓨터공학과  산업공학과  국문학과  영문학과      교수_학생\n",
       "45  대학교46  22   163   189     192    121    99   183  43.045455"
      ]
     },
     "execution_count": 22,
     "metadata": {},
     "output_type": "execute_result"
    }
   ],
   "source": [
    "import numpy as np\n",
    "import pandas as pd\n",
    "\n",
    "df = pd.read_csv('https://raw.githubusercontent.com/YoungjinBD/dataset/main/data_6_1_2.csv')\n",
    "\n",
    "df.head()\n",
    "\n",
    "df['교수_학생'] = (df['경영학과'] + df['경제학과'] + df['컴퓨터공학과'] + df['산업공학과'] + df['국문학과'] + df['영문학과']) / df['교수']\n",
    "\n",
    "df[df['교수_학생'] == 43.04545454545455]\n",
    "\n"
   ]
  },
  {
   "cell_type": "code",
   "execution_count": null,
   "metadata": {},
   "outputs": [
    {
     "name": "stdout",
     "output_type": "stream",
     "text": [
      "2018: 527.3333333333334\n",
      "2019: 520.5\n",
      "2020: 514.9166666666666\n",
      "2021: 528.3333333333334\n",
      "2022: 524.4166666666666\n",
      "2023: nan\n"
     ]
    }
   ],
   "source": [
    "import numpy as np\n",
    "import pandas as pd\n",
    "\n",
    "df = pd.read_csv('https://raw.githubusercontent.com/YoungjinBD/dataset/main/data_6_1_3.csv')\n",
    "\n",
    "\n",
    "df['총 범죄건수'] = df['폭력범죄'] + df['지능범죄'] + df['교통범죄'] + df['절도범죄'] + df['경제범죄'] + df['정치범죄']\n",
    "\n",
    "df_2018 = df[df['날짜'].str.contains('2018년')]\n",
    "print('2018:', df_2018['총 범죄건수'].mean())\n",
    "\n",
    "df_2019 = df[df['날짜'].str.contains('2019년')]\n",
    "print('2019:', df_2019['총 범죄건수'].mean())\n",
    "\n",
    "df_2020 = df[df['날짜'].str.contains('2020년')]\n",
    "print('2020:', df_2020['총 범죄건수'].mean())\n",
    "\n",
    "df_2021 = df[df['날짜'].str.contains('2021년')]\n",
    "print('2021:', df_2021['총 범죄건수'].mean())\n",
    "# 528명\n",
    "\n",
    "df_2022 = df[df['날짜'].str.contains('2022년')]\n",
    "print('2022:', df_2022['총 범죄건수'].mean())\n",
    "\n",
    "df_2023 = df[df['날짜'].str.contains('2023년')]\n",
    "print('2023:', df_2023['총 범죄건수'].mean())"
   ]
  },
  {
   "cell_type": "code",
   "execution_count": 61,
   "metadata": {},
   "outputs": [
    {
     "name": "stdout",
     "output_type": "stream",
     "text": [
      "F1-macro 점수:  0.8864895457772939\n",
      "230\n"
     ]
    }
   ],
   "source": [
    "import numpy as np\n",
    "import pandas as pd\n",
    "\n",
    "train = pd.read_csv('https://raw.githubusercontent.com/YoungjinBD/dataset/main/data_6_2_train.csv')\n",
    "test = pd.read_csv('https://raw.githubusercontent.com/YoungjinBD/dataset/main/data_6_2_test.csv')\n",
    "\n",
    "# 키, 체격, 거주지역(빼기) 문자형 // 결측치 x // y = 구분\n",
    "\n",
    "from sklearn.preprocessing import LabelEncoder\n",
    "\n",
    "encoder = LabelEncoder()\n",
    "\n",
    "train['키'] = encoder.fit_transform(train['키'])\n",
    "test['키'] = encoder.transform(test['키'])\n",
    "\n",
    "train['체격'] = encoder.fit_transform(train['체격'])\n",
    "test['체격'] = encoder.transform(test['체격'])\n",
    "\n",
    "\n",
    "X = train.drop(columns = ['거주지역', '구분'])\n",
    "y = train['구분']\n",
    "\n",
    "from sklearn.model_selection import train_test_split\n",
    "\n",
    "X_train, X_test, y_train, y_test = train_test_split(X, y, test_size = 0.2, random_state =42)\n",
    "\n",
    "from sklearn.ensemble import RandomForestClassifier\n",
    "\n",
    "rfc = RandomForestClassifier()\n",
    "rfc.fit(X_train, y_train)\n",
    "\n",
    "pred = rfc.predict(X_test)\n",
    "\n",
    "from sklearn.metrics import f1_score\n",
    "\n",
    "f_macro = f1_score(y_test, pred, average='macro')\n",
    "print(\"F1-macro 점수: \", f_macro)\n",
    "\n",
    "test.drop(columns = ['거주지역'], inplace=True)\n",
    "pred1 = rfc.predict(test)\n",
    "\n",
    "result = pd.DataFrame({'구분예측' : pred1})\n",
    "result.to_csv('result.csv', index=False)\n",
    "\n",
    "tmp = pd.read_csv('result.csv')\n",
    "print(len(tmp))"
   ]
  },
  {
   "cell_type": "code",
   "execution_count": 75,
   "metadata": {},
   "outputs": [
    {
     "name": "stdout",
     "output_type": "stream",
     "text": [
      "0.55\n",
      "Power_divergenceResult(statistic=6.976190476190475, pvalue=0.07266054733847586)\n"
     ]
    }
   ],
   "source": [
    "df = pd.DataFrame({'항암제': ['무증상', '속쓰림', '무증상', '무증상', '조금아픔', '무증상', '조금아픔', '무증상', '조금아픔', '무증상', '아픔', '무증상', '조금아픔', '무증상', '아픔', '무증상',\n",
    "       '속쓰림', '무증상', '아픔', '무증상']})\n",
    "\n",
    "cnt = df['항암제'] == '무증상'\n",
    "total = len(df['항암제'])\n",
    "result = cnt.sum() / total\n",
    "print(result)\n",
    "\n",
    "df['항암제'].value_counts()\n",
    "\n",
    "val1 = df['항암제'].value_counts().to_list()\n",
    "val2 = [0.7 * total, 0.1 * total, 0.05 * total, 0.15 * total]\n",
    "\n",
    "from scipy.stats import chi2_contingency, chisquare\n",
    "a = chisquare(val1, val2)\n",
    "print(a)\n",
    "\n"
   ]
  },
  {
   "cell_type": "code",
   "execution_count": 7,
   "metadata": {},
   "outputs": [
    {
     "name": "stdout",
     "output_type": "stream",
     "text": [
      "        mean   mean_se  mean_ci_lower  mean_ci_upper  obs_ci_lower  \\\n",
      "0  78.826312  0.864464      77.112614      80.540011     65.171661   \n",
      "\n",
      "   obs_ci_upper  \n",
      "0     92.480964  \n"
     ]
    }
   ],
   "source": [
    "import numpy as np\n",
    "import pandas as pd\n",
    "\n",
    "df = pd.read_csv('https://raw.githubusercontent.com/YoungjinBD/dataset/main/data_6_3_2.csv')\n",
    "\n",
    "\n",
    "from statsmodels.formula.api import ols\n",
    "\n",
    "formula = \"Temp ~ Solar + Wind + Ozone\"\n",
    "model = ols(formula, df).fit()\n",
    "# print(model.summary())\n",
    "\n",
    "data = pd.DataFrame({'Solar': [150], 'Wind':[7.5], 'Ozone':[45]})\n",
    "predict = model.get_prediction(data)\n",
    "summary = predict.summary_frame(alpha=0.05)\n",
    "print(summary)\n",
    "\n",
    "\n"
   ]
  },
  {
   "cell_type": "code",
   "execution_count": null,
   "metadata": {},
   "outputs": [],
   "source": []
  }
 ],
 "metadata": {
  "kernelspec": {
   "display_name": "base",
   "language": "python",
   "name": "python3"
  },
  "language_info": {
   "codemirror_mode": {
    "name": "ipython",
    "version": 3
   },
   "file_extension": ".py",
   "mimetype": "text/x-python",
   "name": "python",
   "nbconvert_exporter": "python",
   "pygments_lexer": "ipython3",
   "version": "3.11.8"
  }
 },
 "nbformat": 4,
 "nbformat_minor": 2
}
