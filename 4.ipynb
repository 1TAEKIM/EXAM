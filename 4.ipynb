{
 "cells": [
  {
   "cell_type": "code",
   "execution_count": null,
   "metadata": {},
   "outputs": [
    {
     "name": "stdout",
     "output_type": "stream",
     "text": [
      "18.95\n"
     ]
    }
   ],
   "source": [
    "import numpy as np\n",
    "import pandas as pd\n",
    "\n",
    "lst = [10,11,11.2,13,15.5,18,19.8,20,31,33,39.5,42]\n",
    "\n",
    "Q1 = np.quantile(lst, 0.25)\n",
    "Q3 = np.quantile(lst, 0.75)\n",
    "IQR = Q3 - Q1\n",
    "print(abs(IQR))\n",
    "# 답 18"
   ]
  },
  {
   "cell_type": "code",
   "execution_count": null,
   "metadata": {},
   "outputs": [
    {
     "name": "stdout",
     "output_type": "stream",
     "text": [
      "90\n"
     ]
    }
   ],
   "source": [
    "df = pd.read_csv('https://raw.githubusercontent.com/YoungjinBD/dataset/main/facebook.csv')\n",
    "\n",
    "df['target'] = (df['num_loves'] + df['num_wows']) / df['num_reactions']\n",
    "cond1 = (df['target'] > 0.4)\n",
    "cond2 = (df['target'] < 0.5)\n",
    "cond3 = (df['status_type'] == 'video')\n",
    "\n",
    "print(len(df[cond1 & cond2 & cond3]))\n",
    "# 답 90\n",
    "\n"
   ]
  },
  {
   "cell_type": "code",
   "execution_count": null,
   "metadata": {},
   "outputs": [
    {
     "name": "stdout",
     "output_type": "stream",
     "text": [
      "6\n",
      "129\n",
      "6\n"
     ]
    }
   ],
   "source": [
    "df = pd.read_csv('https://raw.githubusercontent.com/YoungjinBD/dataset/main/netflix.csv')\n",
    "df.head()\n",
    "\n",
    "\n",
    "df['date_added']\n",
    "\n",
    "result_df = df[df['date_added'].str.contains('January') & df['date_added'].str.contains('2018')]\n",
    "result_df_uk = result_df[result_df['country'] == 'United Kingdom']\n",
    "print(len(result_df_uk))\n",
    "\n",
    "print(len(result_df['country'] == 'United Kingdom'))\n",
    "\n",
    "print(len(result_df[result_df['country'] == 'United Kingdom']))"
   ]
  },
  {
   "cell_type": "code",
   "execution_count": null,
   "metadata": {},
   "outputs": [],
   "source": [
    "import numpy as np\n",
    "import pandas as pd\n",
    "\n",
    "X_train = pd.read_csv('https://raw.githubusercontent.com/YoungjinBD/dataset/main/CS_Seg_X_train.csv')\n",
    "X_test = pd.read_csv('https://raw.githubusercontent.com/YoungjinBD/dataset/main/CS_Seg_X_test.csv')\n",
    "y_train = pd.read_csv('https://raw.githubusercontent.com/YoungjinBD/dataset/main/CS_Seg_y_train.csv')\n",
    "\n",
    "\n"
   ]
  },
  {
   "cell_type": "code",
   "execution_count": null,
   "metadata": {},
   "outputs": [],
   "source": [
    "# 분류, Segmentation 예측\n",
    "# ID 빼고 문자형은 라벨 인코더\n",
    "\n",
    "X_train.drop(columns=['ID'], axis = 1, inplace=True)\n",
    "y_train.drop(columns=['ID'], axis = 1, inplace=True)\n",
    "\n",
    "from sklearn.preprocessing import LabelEncoder\n"
   ]
  }
 ],
 "metadata": {
  "kernelspec": {
   "display_name": "base",
   "language": "python",
   "name": "python3"
  },
  "language_info": {
   "codemirror_mode": {
    "name": "ipython",
    "version": 3
   },
   "file_extension": ".py",
   "mimetype": "text/x-python",
   "name": "python",
   "nbconvert_exporter": "python",
   "pygments_lexer": "ipython3",
   "version": "3.11.8"
  }
 },
 "nbformat": 4,
 "nbformat_minor": 2
}
