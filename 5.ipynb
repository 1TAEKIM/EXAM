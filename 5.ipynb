{
 "cells": [
  {
   "cell_type": "code",
   "execution_count": null,
   "metadata": {},
   "outputs": [],
   "source": []
  },
  {
   "cell_type": "code",
   "execution_count": 27,
   "metadata": {},
   "outputs": [
    {
     "name": "stdout",
     "output_type": "stream",
     "text": [
      "<class 'pandas.core.frame.DataFrame'>\n",
      "RangeIndex: 500 entries, 0 to 499\n",
      "Data columns (total 4 columns):\n",
      " #   Column  Non-Null Count  Dtype  \n",
      "---  ------  --------------  -----  \n",
      " 0   Gender  500 non-null    object \n",
      " 1   Height  500 non-null    int64  \n",
      " 2   Weight  500 non-null    int64  \n",
      " 3   BMI     500 non-null    float64\n",
      "dtypes: float64(1), int64(2), object(1)\n",
      "memory usage: 15.8+ KB\n",
      "47\n",
      "19\n",
      "28\n"
     ]
    },
    {
     "data": {
      "text/plain": [
       "19"
      ]
     },
     "execution_count": 27,
     "metadata": {},
     "output_type": "execute_result"
    }
   ],
   "source": [
    "import numpy as np\n",
    "import pandas as pd\n",
    "\n",
    "df = pd.read_csv('https://raw.githubusercontent.com/YoungjinBD/dataset/main/BMI.csv')\n",
    "\n",
    "df.head()\n",
    "\n",
    "\n",
    "df['BMI'] = df['Weight'] / ((df['Height'] * 0.01) ** 2)\n",
    "\n",
    "df.info()\n",
    "cond1 = (df['BMI'] >= 18.5)\n",
    "cond2 = (df['BMI'] < 23)\n",
    "\n",
    "print(len(df[cond1 & cond2]))\n",
    "\n",
    "cond3 = (df['BMI'] >= 23)\n",
    "cond4 = (df['BMI'] < 25)\n",
    "\n",
    "print(len(df[cond3 & cond4]))\n",
    "\n",
    "print(47 - 19)\n",
    "\n",
    "len(df[(df['BMI'] >= 23) & (df['BMI'] < 25)])"
   ]
  },
  {
   "cell_type": "code",
   "execution_count": 81,
   "metadata": {},
   "outputs": [
    {
     "name": "stdout",
     "output_type": "stream",
     "text": [
      "119\n"
     ]
    }
   ],
   "source": [
    "import numpy as np\n",
    "import pandas as pd\n",
    "\n",
    "df = pd.read_csv('https://raw.githubusercontent.com/YoungjinBD/dataset/main/trash_bag.csv', encoding='euc-kr')\n",
    "\n",
    "# df.info()\n",
    "\n",
    "df1 = df[(df['용도'] == '음식물쓰레기') & (df['사용대상'] == '가정용')]\n",
    "\n",
    "df2 = df1[df1['2L가격'] != 0]\n",
    "\n",
    "print(int(df2['2L가격'].mean()))\n"
   ]
  },
  {
   "cell_type": "code",
   "execution_count": 104,
   "metadata": {},
   "outputs": [
    {
     "data": {
      "text/html": [
       "<div>\n",
       "<style scoped>\n",
       "    .dataframe tbody tr th:only-of-type {\n",
       "        vertical-align: middle;\n",
       "    }\n",
       "\n",
       "    .dataframe tbody tr th {\n",
       "        vertical-align: top;\n",
       "    }\n",
       "\n",
       "    .dataframe thead th {\n",
       "        text-align: right;\n",
       "    }\n",
       "</style>\n",
       "<table border=\"1\" class=\"dataframe\">\n",
       "  <thead>\n",
       "    <tr style=\"text-align: right;\">\n",
       "      <th></th>\n",
       "      <th>순 전입학생수</th>\n",
       "      <th>전체학생 수</th>\n",
       "    </tr>\n",
       "    <tr>\n",
       "      <th>학교</th>\n",
       "      <th></th>\n",
       "      <th></th>\n",
       "    </tr>\n",
       "  </thead>\n",
       "  <tbody>\n",
       "    <tr>\n",
       "      <th>A</th>\n",
       "      <td>18</td>\n",
       "      <td>566</td>\n",
       "    </tr>\n",
       "    <tr>\n",
       "      <th>E</th>\n",
       "      <td>14</td>\n",
       "      <td>603</td>\n",
       "    </tr>\n",
       "    <tr>\n",
       "      <th>B</th>\n",
       "      <td>13</td>\n",
       "      <td>588</td>\n",
       "    </tr>\n",
       "    <tr>\n",
       "      <th>G</th>\n",
       "      <td>10</td>\n",
       "      <td>618</td>\n",
       "    </tr>\n",
       "    <tr>\n",
       "      <th>D</th>\n",
       "      <td>7</td>\n",
       "      <td>548</td>\n",
       "    </tr>\n",
       "    <tr>\n",
       "      <th>F</th>\n",
       "      <td>1</td>\n",
       "      <td>481</td>\n",
       "    </tr>\n",
       "    <tr>\n",
       "      <th>H</th>\n",
       "      <td>-1</td>\n",
       "      <td>602</td>\n",
       "    </tr>\n",
       "    <tr>\n",
       "      <th>C</th>\n",
       "      <td>-9</td>\n",
       "      <td>528</td>\n",
       "    </tr>\n",
       "  </tbody>\n",
       "</table>\n",
       "</div>"
      ],
      "text/plain": [
       "    순 전입학생수  전체학생 수\n",
       "학교                 \n",
       "A        18     566\n",
       "E        14     603\n",
       "B        13     588\n",
       "G        10     618\n",
       "D         7     548\n",
       "F         1     481\n",
       "H        -1     602\n",
       "C        -9     528"
      ]
     },
     "execution_count": 104,
     "metadata": {},
     "output_type": "execute_result"
    }
   ],
   "source": [
    "import numpy as np\n",
    "import pandas as pd\n",
    "\n",
    "df = pd.read_csv('https://raw.githubusercontent.com/YoungjinBD/dataset/main/students.csv', encoding='euc-kr')\n",
    "# df.info()\n",
    "\n",
    "df['순 전입학생수'] = df['총 전입학생'] - df['총 전출학생']\n",
    "\n",
    "result_df = df.groupby(['학교'])[['순 전입학생수', '전체학생 수']].sum()\n",
    "\n",
    "result_df.sort_values('순 전입학생수', ascending=False)"
   ]
  },
  {
   "cell_type": "code",
   "execution_count": 1,
   "metadata": {},
   "outputs": [
    {
     "name": "stderr",
     "output_type": "stream",
     "text": [
      "/Users/1tae/anaconda3/lib/python3.11/site-packages/sklearn/base.py:1473: DataConversionWarning: A column-vector y was passed when a 1d array was expected. Please change the shape of y to (n_samples,), for example using ravel().\n",
      "  return fit_method(estimator, *args, **kwargs)\n"
     ]
    },
    {
     "name": "stdout",
     "output_type": "stream",
     "text": [
      "r2: 0.948169982110197\n",
      "6595806.491914054\n",
      "2568.2302256445105\n"
     ]
    }
   ],
   "source": [
    "import numpy as np\n",
    "import pandas as pd\n",
    "\n",
    "y_train = pd.read_csv('https://raw.githubusercontent.com/YoungjinBD/dataset/main/used_car_y_train.csv')\n",
    "X_train = pd.read_csv('https://raw.githubusercontent.com/YoungjinBD/dataset/main/used_car_X_train.csv')\n",
    "\n",
    "X_test = pd.read_csv('https://raw.githubusercontent.com/YoungjinBD/dataset/main/used_car_X_test.csv')\n",
    "X_test1 = X_test.copy()\n",
    "\n",
    "# 결측치 없음, model, transmission, fuelType 문자형\n",
    "\n",
    "from sklearn.preprocessing import LabelEncoder\n",
    "\n",
    "encoder = LabelEncoder()\n",
    "\n",
    "X_train['model'] = encoder.fit_transform(X_train['model'])\n",
    "X_test['model'] = encoder.transform(X_test['model'])\n",
    "\n",
    "X_train['transmission'] = encoder.fit_transform(X_train['transmission'])\n",
    "X_test['transmission'] = encoder.transform(X_test['transmission'])\n",
    "\n",
    "X_train['fuelType'] = encoder.fit_transform(X_train['fuelType'])\n",
    "X_test['fuelType'] = encoder.transform(X_test['fuelType'])\n",
    "\n",
    "\n",
    "X_train.drop(columns=['id'], inplace=True, axis = 1)\n",
    "y_train.drop(columns=['id'], inplace=True, axis = 1)\n",
    "X_test.drop(columns=['id'], inplace=True, axis = 1)\n",
    "\n",
    "X_train.shape,  y_train.shape\n",
    "\n",
    "from sklearn.model_selection import train_test_split\n",
    "X1_train, X1_test, y1_train, y1_test = train_test_split(X_train, y_train, test_size=0.2, random_state=42)\n",
    "\n",
    "from sklearn.ensemble import RandomForestRegressor\n",
    "\n",
    "rfr = RandomForestRegressor()\n",
    "rfr.fit(X1_train, y1_train)\n",
    "\n",
    "pred = rfr.predict(X1_test)\n",
    "\n",
    "\n",
    "from sklearn.metrics import mean_squared_error, r2_score\n",
    "mse = mean_squared_error(y1_test, pred)\n",
    "r2 = r2_score(y1_test, pred)\n",
    "print('r2:', r2)\n",
    "print(mse)\n",
    "print(np.sqrt(mse))\n",
    "\n",
    "pred1 = rfr.predict(X_test)\n",
    "\n",
    "\n",
    "result = pd.DataFrame({'id': X_test1['id'], 'Price': pred1 })\n",
    "\n",
    "result.head()\n",
    "\n",
    "result.to_csv('result.csv', index=False)"
   ]
  },
  {
   "cell_type": "code",
   "execution_count": null,
   "metadata": {},
   "outputs": [],
   "source": []
  }
 ],
 "metadata": {
  "kernelspec": {
   "display_name": "base",
   "language": "python",
   "name": "python3"
  },
  "language_info": {
   "codemirror_mode": {
    "name": "ipython",
    "version": 3
   },
   "file_extension": ".py",
   "mimetype": "text/x-python",
   "name": "python",
   "nbconvert_exporter": "python",
   "pygments_lexer": "ipython3",
   "version": "3.11.8"
  }
 },
 "nbformat": 4,
 "nbformat_minor": 2
}
