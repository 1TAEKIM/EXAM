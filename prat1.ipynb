{
 "cells": [
  {
   "cell_type": "code",
   "execution_count": 43,
   "metadata": {},
   "outputs": [
    {
     "name": "stdout",
     "output_type": "stream",
     "text": [
      "<class 'pandas.core.frame.DataFrame'>\n",
      "RangeIndex: 153 entries, 0 to 152\n",
      "Data columns (total 6 columns):\n",
      " #   Column   Non-Null Count  Dtype  \n",
      "---  ------   --------------  -----  \n",
      " 0   Ozone    116 non-null    float64\n",
      " 1   Solar.R  146 non-null    float64\n",
      " 2   Wind     153 non-null    float64\n",
      " 3   Temp     153 non-null    int64  \n",
      " 4   Month    153 non-null    int64  \n",
      " 5   Day      153 non-null    int64  \n",
      "dtypes: float64(3), int64(3)\n",
      "memory usage: 7.3 KB\n",
      "None\n",
      "10.188133874239352\n",
      "\n",
      "0.20261437908496732\n",
      "0.19607843137254902\n",
      "0.20261437908496732\n",
      "0.20261437908496732\n",
      "0.19607843137254902\n",
      "Month\n",
      "5    65.548387\n",
      "6    79.100000\n",
      "7    83.903226\n",
      "8    83.967742\n",
      "9    76.900000\n",
      "Name: Temp, dtype: float64\n"
     ]
    }
   ],
   "source": [
    "import pandas as pd\n",
    "import numpy as np\n",
    "\n",
    "df = pd.read_csv('https://raw.githubusercontent.com/YoungjinBD/dataset/main/airquality.csv')\n",
    "\n",
    "print(df.info())\n",
    "\n",
    "# Ozone이 결측치가 가장 많다.\n",
    "# df['Ozone'].fillna(0, inplace=True)\n",
    "# df.info()\n",
    "\n",
    "# import numpy  as np\n",
    "# mean_oz = np.mean(df['Ozone'])\n",
    "# print(mean_oz)\n",
    "\n",
    "# df['Ozone'].dropna(inplace=True)\n",
    "# mean_oz1 = np.mean(df['Ozone'])\n",
    "# print(mean_oz1)\n",
    "\n",
    "# 결측치 0으로 대치한 평균 : 31.941176470588236\n",
    "# 결측치 제외한 평균: 42.12931034482759\n",
    "\n",
    "\n",
    "print(42.12931034482759 - 31.941176470588236)\n",
    "\n",
    "# from sklearn.preprocessing import MinMaxScaler\n",
    "# scaler = MinMaxScaler()\n",
    "\n",
    "# df['Wind'] = scaler.fit_transform(df[['Wind']])\n",
    "\n",
    "# mm = np.mean(df['Wind'])\n",
    "# print(mm) # 0.4346061231510147\n",
    "\n",
    "# z 정규화 = 값 - 평균 빼고 / 표준편차\n",
    "\n",
    "# df['Wind'] = df['Wind'] - np.mean(df['Wind']) / np.std(df['Wind'])\n",
    "# print(np.mean(df['Wind'])) # 7.1218042205113905\n",
    "\n",
    "print()\n",
    "\n",
    "df.head()\n",
    "\n",
    "print(np.mean(df['Month'] == 5))\n",
    "print(np.mean(df['Month'] == 6))\n",
    "print(np.mean(df['Month'] == 7))\n",
    "print(np.mean(df['Month'] == 8))\n",
    "print(np.mean(df['Month'] == 9))\n",
    "\n",
    "print(df.groupby('Month')['Temp'].mean())\n",
    "# 0.20261437908496732\n",
    "# 0.19607843137254902\n",
    "# 0.20261437908496732\n",
    "# 0.20261437908496732\n",
    "# 0.19607843137254902"
   ]
  },
  {
   "cell_type": "markdown",
   "metadata": {},
   "source": [
    "---"
   ]
  },
  {
   "cell_type": "code",
   "execution_count": 48,
   "metadata": {},
   "outputs": [
    {
     "name": "stdout",
     "output_type": "stream",
     "text": [
      "(3500, 11) (1500, 11) (3500,) (1500,)\n"
     ]
    },
    {
     "data": {
      "text/plain": [
       "[0.916,\n",
       " 0.9206666666666666,\n",
       " 0.924,\n",
       " 0.9206666666666666,\n",
       " 0.9173333333333333,\n",
       " 0.916,\n",
       " 0.9173333333333333,\n",
       " 0.9126666666666666,\n",
       " 0.9126666666666666,\n",
       " 0.91,\n",
       " 0.9106666666666666,\n",
       " 0.916,\n",
       " 0.9126666666666666,\n",
       " 0.91,\n",
       " 0.9093333333333333,\n",
       " 0.9073333333333333,\n",
       " 0.906,\n",
       " 0.906,\n",
       " 0.908,\n",
       " 0.9093333333333333,\n",
       " 0.906,\n",
       " 0.906,\n",
       " 0.9086666666666666,\n",
       " 0.908]"
      ]
     },
     "execution_count": 48,
     "metadata": {},
     "output_type": "execute_result"
    }
   ],
   "source": [
    "import numpy as np\n",
    "import pandas as pd\n",
    "\n",
    "df = pd.read_csv('https://raw.githubusercontent.com/YoungjinBD/dataset/main/Bank_Personal_Loan_Modeling.csv')\n",
    "# print(df.info())\n",
    "# print(df.head())\n",
    "\n",
    "from sklearn.model_selection import train_test_split\n",
    "\n",
    "X = df.drop(['ID', 'Personal Loan', 'ZIP Code'], axis = 1)\n",
    "y = df['Personal Loan']\n",
    "\n",
    "X_train, X_test, y_train, y_test = train_test_split(X, y, test_size=0.3, random_state = 42, stratify=y)\n",
    "\n",
    "print(X_train.shape, X_test.shape, y_train.shape, y_test.shape)\n",
    "\n",
    "from sklearn.preprocessing import Normalizer\n",
    "\n",
    "scaler = Normalizer()\n",
    "X_train = scaler.fit_transform(X_train)\n",
    "X_test = scaler.transform(X_test)\n",
    "\n",
    "\n",
    "from sklearn.neighbors import KNeighborsClassifier\n",
    "from sklearn.metrics import confusion_matrix, accuracy_score\n",
    "\n",
    "\n",
    "training_accuracy = []\n",
    "test_accuracy = []\n",
    "\n",
    "neighbors_settings = range(1, 25)\n",
    "\n",
    "for n_neigbors in neighbors_settings:\n",
    "    clf = KNeighborsClassifier(n_neighbors = n_neigbors)\n",
    "    clf.fit(X_train, y_train)\n",
    "    \n",
    "    training_accuracy.append(clf.score(X_train, y_train))\n",
    "    \n",
    "    test_accuracy.append(clf.score(X_test, y_test))\n",
    "\n",
    "test_accuracy"
   ]
  },
  {
   "cell_type": "code",
   "execution_count": 56,
   "metadata": {},
   "outputs": [
    {
     "name": "stdout",
     "output_type": "stream",
     "text": [
      "77.88\n",
      "1.1530683673379125 0.25069236635535036\n",
      "1.15\n"
     ]
    }
   ],
   "source": [
    "import pandas as pd\n",
    "import numpy as np\n",
    "\n",
    "df = pd.read_csv('https://raw.githubusercontent.com/YoungjinBD/dataset/main/airquality.csv')\n",
    "\n",
    "\n",
    "# X = df['Temp'].mean()\n",
    "X = np.mean(df['Temp'])\n",
    "print(round(X, 2))\n",
    "\n",
    "from scipy.stats import ttest_1samp\n",
    "\n",
    "t_stat, p_value = ttest_1samp(df['Temp'], 77)\n",
    "print(t_stat, p_value)\n",
    "print(round(t_stat, 2))"
   ]
  },
  {
   "cell_type": "code",
   "execution_count": null,
   "metadata": {},
   "outputs": [],
   "source": []
  }
 ],
 "metadata": {
  "kernelspec": {
   "display_name": "base",
   "language": "python",
   "name": "python3"
  },
  "language_info": {
   "codemirror_mode": {
    "name": "ipython",
    "version": 3
   },
   "file_extension": ".py",
   "mimetype": "text/x-python",
   "name": "python",
   "nbconvert_exporter": "python",
   "pygments_lexer": "ipython3",
   "version": "3.11.8"
  }
 },
 "nbformat": 4,
 "nbformat_minor": 2
}
