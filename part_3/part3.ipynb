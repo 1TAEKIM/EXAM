{
 "cells": [
  {
   "cell_type": "markdown",
   "metadata": {},
   "source": [
    "### 표본의 평균 검정 (단일 표본 t-검정)"
   ]
  },
  {
   "cell_type": "code",
   "execution_count": null,
   "metadata": {},
   "outputs": [
    {
     "name": "stdout",
     "output_type": "stream",
     "text": [
      "t 통계량 31.887160448233363\n",
      "p값 1.4410218033665443e-10\n",
      "95% 신뢰구간 (25.920702252679696, 29.8792977473203)\n",
      "귀무가설을 기각합니다.\n"
     ]
    }
   ],
   "source": [
    "# 모집단의 분산(표준편차)을 모르는 경우: t-test (양측)\n",
    "\n",
    "import numpy as np\n",
    "import pandas as pd\n",
    "\n",
    "# 예제 데이터 생성\n",
    "data = np.array([23, 25, 28, 30, 26, 27, 29, 32, 31, 28])\n",
    "\n",
    "# 유의수준 설정\n",
    "alpha = 0.05\n",
    "\n",
    "# t - 검정 수행\n",
    "from scipy import stats\n",
    "t_statistic, p_value = stats.ttest_1samp(data, popmean=0, alternative='two-sided') # alternative=two-sided 기본값(양측 검정), greater(단측 검정)\n",
    "# less(단측 검정), 샘플 평균이 모집단 평균보다 작다는 가설을 검정\n",
    "\n",
    "# 95% 신뢰구간 계산\n",
    "confidence_interval = stats.t.interval(1 - alpha, len(data) - 1, loc=np.mean(data), scale=stats.sem(data))\n",
    "\n",
    "# 결과 출력\n",
    "print('t 통계량', t_statistic)\n",
    "print('p값', p_value)\n",
    "print('95% 신뢰구간', confidence_interval)\n",
    "\n",
    "if p_value < alpha:\n",
    "    print('귀무가설을 기각합니다.')\n",
    "else:\n",
    "    print('귀무가설을 기각하지 못합니다.')\n"
   ]
  },
  {
   "cell_type": "code",
   "execution_count": 19,
   "metadata": {},
   "outputs": [
    {
     "name": "stdout",
     "output_type": "stream",
     "text": [
      "mpg 열의 표본평균: 20.0906\n",
      "mpg의 표본분산 36.3241\n",
      "단일 표본 t 검정 결과\n",
      "t-통계량 0.08506003568133688\n",
      "p-값 0.9327606409093872\n",
      "mpg 평균의 95% 신뢰구간: 17.9177 - 22.2636\n"
     ]
    }
   ],
   "source": [
    "import pandas as pd\n",
    "import numpy as np\n",
    "from scipy.stats import ttest_1samp, t\n",
    "\n",
    "# 데이터 로드\n",
    "mtcars = pd.read_csv('https://raw.githubusercontent.com/YoungjinBD/dataset/main/mtcars.csv')\n",
    "\n",
    "# print(mtcars.info())\n",
    "\n",
    "# mpg 열의 표본평균 계산\n",
    "mpg_mean = np.mean(mtcars['mpg'])\n",
    "print('mpg 열의 표본평균:', round(mpg_mean, 4))\n",
    "\n",
    "# mpg 열의 표본분산 계산\n",
    "mpg_val = np.var(mtcars['mpg'], ddof = 1) # ddof = 0은 모집단 분산, ddof = 1은 표본분산 계산\n",
    "print('mpg의 표본분산', round(mpg_val, 4))\n",
    "\n",
    "# 단일표본 t-검정 수행, mpg 평균이 20인지 검정\n",
    "t_stat, p_value = ttest_1samp(mtcars['mpg'], 20)\n",
    "print('단일 표본 t 검정 결과')\n",
    "print('t-통계량', t_stat)\n",
    "print('p-값', p_value) # p-value가 매우 높은 편이기 때문에 귀무가설을 기각할 충분한 증거가 없음을 의미한다\n",
    "\n",
    "# mpg 평균의 95% 신뢰구간 계산 및 출력\n",
    "conf_interval = t.interval(0.95, len(mtcars['mpg']) - 1, loc=np.mean(mtcars['mpg']), scale=stats.sem(mtcars['mpg']))\n",
    "print('mpg 평균의 95% 신뢰구간:', round(conf_interval[0], 4), '-', round(conf_interval[1], 4))"
   ]
  },
  {
   "cell_type": "markdown",
   "metadata": {},
   "source": [
    "### 두 독립표본의 평균, 중앙값 차이 검정"
   ]
  },
  {
   "cell_type": "code",
   "execution_count": null,
   "metadata": {},
   "outputs": [
    {
     "name": "stdout",
     "output_type": "stream",
     "text": [
      "t 통계량: 1.5778641172210597\n",
      "p-값: 0.15324889402868613\n",
      "두 그룹의 평균은 유의미하게 다르지 않습니다.\n"
     ]
    }
   ],
   "source": [
    "# 두 독립적인 표본 간의 평균 차이 검정 예제\n",
    "import numpy as np\n",
    "\n",
    "# 두 독립 표본 데이터\n",
    "s1 = [23, 25, 28, 30, 32]\n",
    "s2 = [19, 21, 24, 26, 29]\n",
    "\n",
    "# t-검정 실행, 두 표본의 평균이 통계적으로 유믜하게 다른지 여부를 검정하는데 사용\n",
    "from scipy.stats import ttest_ind\n",
    "t_stat, p_value = ttest_ind(s1, s2)\n",
    "\n",
    "# 각 샘플의 평균\n",
    "mean_s1 = np.mean(s1)\n",
    "mean_s2 = np.mean(s2)\n",
    "\n",
    "# 결과출력\n",
    "alpha = 0.05\n",
    "print('t 통계량:', t_stat)\n",
    "print('p-값:', p_value)\n",
    "\n",
    "if p_value < alpha:\n",
    "    print('두 그룹의 평균은 유의미하게 다릅니다.')\n",
    "else:\n",
    "    print('두 그룹의 평균은 유의미하게 다르지 않습니다.')"
   ]
  },
  {
   "cell_type": "code",
   "execution_count": null,
   "metadata": {},
   "outputs": [
    {
     "name": "stdout",
     "output_type": "stream",
     "text": [
      "t 통계량: 19.0\n",
      "p-값: 0.2222222222222222\n",
      "두 그룹의 평균은 유의미하게 다르지 않습니다.\n"
     ]
    }
   ],
   "source": [
    "# 두 독립적인 표본 간의 평균 차이 검정 예제\n",
    "import numpy as np\n",
    "\n",
    "# 두 독립 표본 데이터\n",
    "s1 = [23, 25, 28, 30, 32]\n",
    "s2 = [19, 21, 24, 26, 29]\n",
    "\n",
    "# t-검정 실행, 두 그룹의 중앙값이 서로 다른지 여부를 평가\n",
    "from scipy.stats import mannwhitneyu\n",
    "t_stat, p_value = mannwhitneyu(s1, s2)\n",
    "\n",
    "# 각 샘플의 평균\n",
    "mean_s1 = np.mean(s1)\n",
    "mean_s2 = np.mean(s2)\n",
    "\n",
    "# 결과출력\n",
    "alpha = 0.05\n",
    "print('t 통계량:', t_stat)\n",
    "print('p-값:', p_value)\n",
    "\n",
    "if p_value < alpha:\n",
    "    print('두 그룹의 평균은 유의미하게 다릅니다.')\n",
    "else:\n",
    "    print('두 그룹의 평균은 유의미하게 다르지 않습니다.')"
   ]
  },
  {
   "cell_type": "code",
   "execution_count": null,
   "metadata": {},
   "outputs": [],
   "source": [
    "# 샤피로-월크 테스트 , 정규성 검정 테스트\n",
    "\n",
    "data = np.array([23, 25, 28, 30, 26, 27, 29, 32, 31, 28])\n",
    "\n",
    "from scipy.stats import shapiro\n",
    "stats, p_value = shapiro(data)\n",
    "\n",
    "# 결과출력\n",
    "alpha = 0.05\n",
    "print('shapiro-wilk 통계량:', stats)\n",
    "print('p-값:', p_value)\n",
    "\n",
    "# 평균에 대한 차이가 있는지 검정 -> 즉, 주어진 데이터가 정규분포를 따르는 정도를 나타냄\n",
    "if p_value < alpha:\n",
    "    print('귀무가설을 기각하며, 데이터는 정규분포를 따르지 않을 가능성이 있습니다.')\n",
    "else:\n",
    "    print('귀무가설을 기각하지 못하며, 데이터는 정규분포를 따를 가능성이 높습니다.')"
   ]
  },
  {
   "cell_type": "markdown",
   "metadata": {},
   "source": [
    "### 대응표본의 평균 차이 검정(t-검정)\n",
    "- stats.ttest_rel() 함수는 두 관련된 데이터 집단 간의 평균 차이를 비교하고, 이 차이가 유의미한지 확인하는데 사용"
   ]
  },
  {
   "cell_type": "code",
   "execution_count": 24,
   "metadata": {},
   "outputs": [
    {
     "name": "stdout",
     "output_type": "stream",
     "text": [
      "대응표본 t-검정 결과:\n",
      "t통계량: -8.25674954467424\n",
      "p-값: 0.0011738040715128372\n"
     ]
    }
   ],
   "source": [
    "from scipy.stats import ttest_rel\n",
    "\n",
    "data_before = [72, 75, 68, 71, 73]\n",
    "data_after = [76, 79, 74, 78, 80]\n",
    "\n",
    "t_stat, p_value = ttest_rel(data_before, data_after)\n",
    "\n",
    "print('대응표본 t-검정 결과:')\n",
    "print('t통계량:', t_stat)\n",
    "print('p-값:', p_value)"
   ]
  },
  {
   "cell_type": "markdown",
   "metadata": {},
   "source": [
    "### 단일표본 모분산 검정"
   ]
  },
  {
   "cell_type": "code",
   "execution_count": 25,
   "metadata": {},
   "outputs": [
    {
     "name": "stdout",
     "output_type": "stream",
     "text": [
      "chi-square Statistic: 198.32222222222222\n",
      "p-value: 0.0\n",
      "귀무가설 기각\n"
     ]
    }
   ],
   "source": [
    "import numpy as np\n",
    "from scipy.stats import chi2\n",
    "\n",
    "# 샘플 데이터 생성\n",
    "data = np.array([14.2, 15.1, 14.8, 15.4, 14.9, 15.2, 14.6, 15,0])\n",
    "\n",
    "#가설 설정\n",
    "# H0: 모분산은 1.0과 같다.\n",
    "# H1: 모분산은 1.0과 다르다. \n",
    "\n",
    "# 모분산\n",
    "pop_var = 1.0\n",
    "\n",
    "# 검정통계량 = (n - 1) * 표본분산 / 모분산\n",
    "sample_var = np.var(data, ddof = 1)\n",
    "n = len(data)\n",
    "chi2_stat = (n - 1) * sample_var / pop_var\n",
    "\n",
    "# 카이제곱 분포의 자유도\n",
    "ddof = n - 1\n",
    "\n",
    "# p값 계산\n",
    "p_value = 1 - chi2.cdf(chi2_stat, ddof)\n",
    "\n",
    "# 결과 출력\n",
    "print('chi-square Statistic:', chi2_stat)\n",
    "print('p-value:', p_value)\n",
    "\n",
    "alpha = 0.05\n",
    "if p_value < alpha:\n",
    "    print('귀무가설 기각')"
   ]
  },
  {
   "cell_type": "markdown",
   "metadata": {},
   "source": [
    "### 두 모분산 비에 대한 가설 검정 (F검정: 일원분산분석)"
   ]
  },
  {
   "cell_type": "code",
   "execution_count": 27,
   "metadata": {},
   "outputs": [
    {
     "name": "stdout",
     "output_type": "stream",
     "text": [
      "표본 1의 분산: 100.0\n",
      "표본 2의 분산: 100.0\n",
      "f-통계량: 1.0\n"
     ]
    }
   ],
   "source": [
    "from scipy.stats import f\n",
    "\n",
    "sample1 = [10,20,30]\n",
    "sample2 = [20,30,40]\n",
    "\n",
    "# 두 표본의 분산 계산\n",
    "var_sample1 = np.var(sample1, ddof = 1)\n",
    "var_sample2 = np.var(sample2, ddof = 1)\n",
    "\n",
    "# F-검정 실행\n",
    "f_stat = var_sample1 / var_sample2\n",
    "df1 = len(sample1) - 1\n",
    "df2 = len(sample2) - 1\n",
    "p_value = 1 - f.cdf(f_stat, df1, df2)\n",
    "\n",
    "print('표본 1의 분산:', var_sample1)\n",
    "print('표본 2의 분산:', var_sample2)\n",
    "print('f-통계량:', f_stat)\n",
    "\n",
    "alpha = 0.05\n",
    "if p_value < alpha:\n",
    "    print('귀무가설 기각, 두 표본의 모둔산은 다릅니다')\n",
    "    "
   ]
  },
  {
   "cell_type": "markdown",
   "metadata": {},
   "source": [
    "### 독립성 검정(카이제곱 검정)\n",
    "- 주로 범주형 데이터에 사용\n",
    "- 두 개이상의 범주형 변수 간의 관계를 분석하거나 관찰된 빈도와 기대 빈도사이의 차이를 확인하는데 활용"
   ]
  },
  {
   "cell_type": "code",
   "execution_count": null,
   "metadata": {},
   "outputs": [],
   "source": [
    "from scipy.stats import chi2_contingency\n",
    "table = pd.crosstab(df['Gender'], df['Survived'])\n",
    "print(chi2_contingency(table))\n",
    "\n",
    "chi2, p_val, dof, exp = chi2_contingency(table)\n",
    "print(chi2)\n"
   ]
  },
  {
   "cell_type": "markdown",
   "metadata": {},
   "source": [
    "### 로지스틱 회귀모형"
   ]
  },
  {
   "cell_type": "code",
   "execution_count": null,
   "metadata": {},
   "outputs": [
    {
     "ename": "ModuleNotFoundError",
     "evalue": "No module named 'statsmodels'",
     "output_type": "error",
     "traceback": [
      "\u001b[0;31m---------------------------------------------------------------------------\u001b[0m",
      "\u001b[0;31mModuleNotFoundError\u001b[0m                       Traceback (most recent call last)",
      "Cell \u001b[0;32mIn[29], line 1\u001b[0m\n\u001b[0;32m----> 1\u001b[0m \u001b[38;5;28;01mfrom\u001b[39;00m \u001b[38;5;21;01mstatsmodels\u001b[39;00m\u001b[38;5;21;01m.\u001b[39;00m\u001b[38;5;21;01mformula\u001b[39;00m\u001b[38;5;21;01m.\u001b[39;00m\u001b[38;5;21;01mapi\u001b[39;00m \u001b[38;5;28;01mimport\u001b[39;00m logit\n\u001b[1;32m      3\u001b[0m result1 \u001b[38;5;241m=\u001b[39m logit(\u001b[38;5;124m'\u001b[39m\u001b[38;5;124mSurvived ~ Gender+SibSp+Parch+Fare\u001b[39m\u001b[38;5;124m'\u001b[39m, data \u001b[38;5;241m=\u001b[39m df)\u001b[38;5;241m.\u001b[39mfit()\u001b[38;5;241m.\u001b[39msummary()\n",
      "\u001b[0;31mModuleNotFoundError\u001b[0m: No module named 'statsmodels'"
     ]
    }
   ],
   "source": [
    "from statsmodels.formula.api import logit\n",
    "\n",
    "result1 = logit('Survived ~ Gender+SibSp+Parch+Fare', data = df).fit().summary()\n",
    "print(result1)"
   ]
  },
  {
   "cell_type": "code",
   "execution_count": null,
   "metadata": {},
   "outputs": [],
   "source": [
    "import numpy as np\n",
    "result2=logit('Survived ~ Gender+SibSp+Parch+Fare', data=df).fit().params\n",
    "print(result2)\n",
    "\n",
    "# summary에서 복사한 후 넣어도 됨\n",
    "print(np.exp(result2)) #0.702"
   ]
  },
  {
   "cell_type": "code",
   "execution_count": null,
   "metadata": {},
   "outputs": [],
   "source": []
  },
  {
   "cell_type": "code",
   "execution_count": null,
   "metadata": {},
   "outputs": [],
   "source": []
  }
 ],
 "metadata": {
  "kernelspec": {
   "display_name": "base",
   "language": "python",
   "name": "python3"
  },
  "language_info": {
   "codemirror_mode": {
    "name": "ipython",
    "version": 3
   },
   "file_extension": ".py",
   "mimetype": "text/x-python",
   "name": "python",
   "nbconvert_exporter": "python",
   "pygments_lexer": "ipython3",
   "version": "3.11.8"
  }
 },
 "nbformat": 4,
 "nbformat_minor": 2
}
